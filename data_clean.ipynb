{
 "cells": [
  {
   "cell_type": "code",
   "execution_count": 1,
   "metadata": {},
   "outputs": [],
   "source": [
    "\n",
    "from cmath import nan\n",
    "import json\n",
    "import pandas as pd\n",
    "import formula1_scrape\n",
    "import numpy as np\n",
    "\n",
    "f = open('raw_data/driver_data.json')\n",
    "data = json.load(f)\n",
    "df = pd.DataFrame(data)\n",
    "\n",
    "#fix other data types\n",
    "df[\"First Race\"] = df[\"First Race\"].astype(str)\n",
    "#Consistency for Nationalities\n",
    "df[\"Nationality\"] = df[\"Nationality\"].str.title()\n",
    "\n",
    "#Separate circuits and years for first race and last race\n",
    "\n",
    "first_race_data = df[\"First Race\"].str.rsplit(n=1, expand=True)\n",
    "last_race_data = df[\"Last Race\"].str.rsplit(n=1, expand=True)\n",
    "\n",
    "df[\"Debut Year\"] = first_race_data[1]\n",
    "df[\"Debut Circuit\"] = first_race_data[0]\n",
    "df[\"Debut Circuit\"] = df[\"Debut Circuit\"].astype(str)\n",
    "df[\"Final Year\"] = last_race_data[1]\n",
    "df[\"Final Circuit\"] = last_race_data[0]\n",
    "df[\"Final Circuit\"] = df[\"Final Circuit\"].astype(str)\n",
    "\n",
    "\n",
    "#Separate best position and year\n",
    "df[\"Best championship position\"] = df[\"Best championship position\"].astype(str)\n",
    "best_champseason_place = df[\"Best championship position\"].str.split(n=1, expand=True)\n",
    "df[\"Best championship position\"] = best_champseason_place[0]\n",
    "best_champseason_year = best_champseason_place[1].str.split(n=2, expand=True)\n",
    "df[\"Best championship year\"] = best_champseason_year[2]\n",
    "df[\"Best championship position\"] = df[\"Best championship position\"].astype(str)\n",
    "df[\"Best championship year\"] = df[\"Best championship year\"].astype(str)\n",
    "df.loc[df[\"Best championship position\"] == \"World\", \"Best championship position\"] = \"1st\"\n",
    "\n",
    "    \n",
    "#Convert dates/times\n",
    "df[\"Date of birth\"] = pd.to_datetime(df[\"Date of birth\"], infer_datetime_format=True, errors = 'coerce')\n",
    "df[\"Date of death\"] = pd.to_datetime(df[\"Date of death\"], infer_datetime_format=True, errors = 'coerce')\n",
    "\n",
    "#fix other data types\n",
    "df[\"Driver First Name\"] = df[\"Driver First Name\"].astype(str)\n",
    "df[\"Driver Second Name\"] = df[\"Driver Second Name\"].astype(str)\n",
    "df[\"Nationality\"] = df[\"Nationality\"].astype(str)\n",
    "df[\"Hometown\"] = df[\"Hometown\"].astype(str)\n",
    "df[\"Driver Second Name\"] = df[\"Driver Second Name\"].astype(str)\n",
    "df[\"Points\"] = df[\"Points\"].astype(float)\n"
   ]
  },
  {
   "cell_type": "code",
   "execution_count": 2,
   "metadata": {},
   "outputs": [
    {
     "name": "stdout",
     "output_type": "stream",
     "text": [
      "Alan\n"
     ]
    }
   ],
   "source": [
    "cols = df.columns.to_list()\n",
    "cols = cols[0:8]+[cols[-7]]+cols[-5:]+cols[8:-5]\n",
    "df = df.drop(\"First Race\", axis=1)\n",
    "df = df.drop(\"Last Race\", axis=1)\n",
    "df = df.drop(\"Year active\", axis=1)\n",
    "df.columns = df.columns.str.lower()\n",
    "df.columns = df.columns.str.replace(' ','_')\n",
    "\n",
    "\n",
    "print(df.iloc[12,2])\n",
    "clean_driver_data = df\n",
    "\n"
   ]
  },
  {
   "cell_type": "code",
   "execution_count": 4,
   "metadata": {},
   "outputs": [
    {
     "data": {
      "text/plain": [
       "(array([], dtype=int64), array([], dtype=int64))"
      ]
     },
     "execution_count": 4,
     "metadata": {},
     "output_type": "execute_result"
    }
   ],
   "source": [
    "\n",
    "df = df.replace('-',np.nan)\n",
    "df = df.replace('', np.nan)\n",
    "np.where(df.applymap(lambda x: x == ''))\n"
   ]
  },
  {
   "cell_type": "code",
   "execution_count": null,
   "metadata": {},
   "outputs": [],
   "source": []
  },
  {
   "cell_type": "code",
   "execution_count": 13,
   "metadata": {},
   "outputs": [
    {
     "name": "stdout",
     "output_type": "stream",
     "text": [
      "id                                      object\n",
      "driver_number                            int64\n",
      "driver_first_name                       object\n",
      "driver_second_name                      object\n",
      "nationality                             object\n",
      "hometown                                object\n",
      "date_of_birth                   datetime64[ns]\n",
      "date_of_death                   datetime64[ns]\n",
      "grands_prix_entered                      int64\n",
      "teams                                   object\n",
      "seasons                                 object\n",
      "circuits                                object\n",
      "best_race_starting_position             object\n",
      "best_race_finishing_position            object\n",
      "victories                                int64\n",
      "podiums                                  int64\n",
      "pole_positions                           int64\n",
      "first_row_start                          int64\n",
      "fastest_lap                              int64\n",
      "points_finishes                          int64\n",
      "points                                 float64\n",
      "best_championship_position              object\n",
      "known_as                                object\n",
      "debut_year                              object\n",
      "debut_circuit                           object\n",
      "final_year                              object\n",
      "final_circuit                           object\n",
      "best_championship_year                  object\n",
      "dtype: object\n"
     ]
    }
   ],
   "source": [
    "print(df.dtypes)"
   ]
  },
  {
   "cell_type": "code",
   "execution_count": 6,
   "metadata": {},
   "outputs": [
    {
     "name": "stdout",
     "output_type": "stream",
     "text": [
      "whoop\n"
     ]
    }
   ],
   "source": [
    "import psycopg2\n",
    "from sqlalchemy import create_engine\n",
    "import pandas as pd\n",
    "from sqlalchemy import inspect\n",
    "from sqlalchemy import exists\n",
    "from sqlalchemy import text\n",
    "import sqlalchemy\n",
    "\n",
    "DATABASE_TYPE = 'postgresql'\n",
    "DBAPI = 'psycopg2'\n",
    "HOST = 'formula1.c0ptp1rfwhvx.eu-west-2.rds.amazonaws.com'\n",
    "USER = 'postgres'\n",
    "PASSWORD = 'T00narmyf1s'\n",
    "DATABASE = 'Formula1'\n",
    "PORT = 5432\n",
    "\n",
    "engine = create_engine(f\"{DATABASE_TYPE}+{DBAPI}://{USER}:{PASSWORD}@{HOST}:{PORT}/{DATABASE}\")\n",
    "engine.connect()\n",
    "\n",
    "inspector = inspect(engine)\n",
    "inspector.get_table_names()\n",
    "\n"
   ]
  },
  {
   "cell_type": "code",
   "execution_count": 5,
   "metadata": {},
   "outputs": [
    {
     "data": {
      "text/plain": [
       "852"
      ]
     },
     "execution_count": 5,
     "metadata": {},
     "output_type": "execute_result"
    }
   ],
   "source": [
    "clean_driver_data.to_sql('Drivers', engine, if_exists='replace')"
   ]
  },
  {
   "cell_type": "code",
   "execution_count": 27,
   "metadata": {},
   "outputs": [
    {
     "name": "stdout",
     "output_type": "stream",
     "text": [
      "<sqlalchemy.engine.cursor.LegacyCursorResult object at 0x7fbbfece9910>\n"
     ]
    }
   ],
   "source": [
    "pkey = engine.execute(text('SELECT indexname, indexdef FROM pg_indexes WHERE tablename = \\'\"Drivers\"\\';'))\n",
    "print(pkey)"
   ]
  },
  {
   "cell_type": "code",
   "execution_count": 30,
   "metadata": {},
   "outputs": [
    {
     "data": {
      "text/plain": [
       "789"
      ]
     },
     "execution_count": 30,
     "metadata": {},
     "output_type": "execute_result"
    }
   ],
   "source": [
    "idx = clean_driver_data[clean_driver_data['Driver Second Name'] == 'Senna'].index.values[0]\n",
    "clean_driver_data.iloc[idx:].to_sql('Drivers', engine, if_exists='append', index=False)"
   ]
  },
  {
   "cell_type": "code",
   "execution_count": 8,
   "metadata": {},
   "outputs": [
    {
     "name": "stdout",
     "output_type": "stream",
     "text": [
      "0        Anderstorp 1974\n",
      "1           Aintree 1959\n",
      "2                    NaN\n",
      "3       Nurburgring 1952\n",
      "4       Silverstone 1954\n",
      "             ...        \n",
      "462    Buenos Aires 1977\n",
      "463     Nurburgring 1953\n",
      "464     Monte Carlo 1960\n",
      "465      Bremgarten 1951\n",
      "466         Estoril 1985\n",
      "Name: First Race, Length: 467, dtype: object\n",
      "        0     1\n",
      "0    None  None\n",
      "1    None  None\n",
      "2     nan  None\n",
      "3    None  None\n",
      "4    None  None\n",
      "..    ...   ...\n",
      "462     4  1977\n",
      "463  None  None\n",
      "464  None  None\n",
      "465  None  None\n",
      "466    10  1987\n",
      "\n",
      "[467 rows x 2 columns]\n",
      "       0     1                      2\n",
      "0    nan  None                   None\n",
      "1    nan  None                   None\n",
      "2    nan  None                   None\n",
      "3    nan  None                   None\n",
      "4     14  1954          Stirling Moss\n",
      "..   ...   ...                    ...\n",
      "462    2  1977         Jody Scheckter\n",
      "463    5  1962             Dan Gurney\n",
      "464    5  1960              Phil Hill\n",
      "465   15  1951  Yves Giraud-Cabantous\n",
      "466   18  1987         Martin Brundle\n",
      "\n",
      "[467 rows x 3 columns]\n"
     ]
    }
   ],
   "source": [
    "f = open('teams_data.json')\n",
    "data = json.load(f)\n",
    "df = pd.DataFrame(data)\n",
    "print(df[\"First Race\"])\n",
    "\n",
    "\n",
    "#Separate circuits and years for first race and last race\n",
    "\n",
    "first_race_data = df[\"First Race\"].str.rsplit(n=1, expand=True)\n",
    "last_race_data = df[\"Last Race\"].str.rsplit(n=1, expand=True)\n",
    "\n",
    "df[\"Debut Year\"] = first_race_data[1]\n",
    "df[\"Debut Circuit\"] = first_race_data[0]\n",
    "df[\"Debut Circuit\"] = df[\"Debut Circuit\"].astype(str)\n",
    "df[\"Final Year\"] = last_race_data[1]\n",
    "df[\"Final Circuit\"] = last_race_data[0]\n",
    "df[\"Final Circuit\"] = df[\"Final Circuit\"].astype(str)\n",
    "\n",
    "#Separate best position and year\n",
    "df[\"Best championship position (constructor)\"] = df[\"Best championship position (constructor)\"].astype(str)\n",
    "best_champseason_place = df[\"Best championship position (constructor)\"].str.split(n=1, expand=True)\n",
    "print(best_champseason_place)\n",
    "df[\"Best championship position\"] = best_champseason_place[0]\n",
    "df[\"Best championship year\"] = best_champseason_place[1]\n",
    "df[\"Best championship position\"] = df[\"Best championship position\"].astype(str)\n",
    "df[\"Best championship year\"] = df[\"Best championship year\"].astype(str)\n",
    "df.loc[df[\"Best championship position\"] == \"World\", \"Best championship position\"] = \"1st\"\n",
    "best_champseason_year = best_champseason_place[1].str.split(n=2, expand=True)\n",
    "df[\"Best championship year\"] = best_champseason_year[1]\n",
    "\n",
    "df[\"Best championship position (driver)\"] = df[\"Best championship position (driver)\"].astype(str)\n",
    "best_champdriverseason_place = df[\"Best championship position (driver)\"].str.split(n=2, expand=True)\n",
    "print(best_champdriverseason_place)\n",
    "df[\"Best championship position (driver)\"] = best_champdriverseason_place[0]\n",
    "df[\"Best championship year (driver)\"] = best_champdriverseason_place[1]\n",
    "df[\"Best championship driver\"] = best_champdriverseason_place[2]"
   ]
  },
  {
   "cell_type": "code",
   "execution_count": 9,
   "metadata": {},
   "outputs": [
    {
     "ename": "ProgrammingError",
     "evalue": "(psycopg2.errors.UndefinedColumn) column \"Team number\" of relation \"Teams\" does not exist\nLINE 1: INSERT INTO \"Teams\" (index, \"ID\", \"Team number\", \"Team Name\"...\n                                          ^\n\n[SQL: INSERT INTO \"Teams\" (index, \"ID\", \"Team number\", \"Team Name\", \"Name\", \"Year active\", \"Best race starting position\", \"Best race finishing position\", \"Drivers entrance\", \"Race starts\", \"Seasons\", \"Circuits\", \"Drivers\", \"First row starts\", \"Two drivers on first row\", \"Two drivers finish 1 and 2\", \"All drivers on podium\", \"All drivers in points\", \"Victories\", \"Podiums\", \"Pole pos.\", \"Fastest lap\", \"In points\", \"Points\", \"Best championship position (driver)\", \"Debut Year\", \"Debut Circuit\", \"Final Year\", \"Final Circuit\", \"Best championship position\", \"Best championship year\", \"Best championship year (driver)\", \"Best championship driver\") VALUES (%(index)s, %(ID)s, %(Team number)s, %(Team Name)s, %(Name)s, %(Year active)s, %(Best race starting position)s, %(Best race finishing position)s, %(Drivers entrance)s, %(Race starts)s, %(Seasons)s, %(Circuits)s, %(Drivers)s, %(First row starts)s, %(Two drivers on first row)s, %(Two drivers finish 1 and 2)s, %(All drivers on podium)s, %(All drivers in points)s, %(Victories)s, %(Podiums)s, %(Pole pos.)s, %(Fastest lap)s, %(In points)s, %(Points)s, %(Best championship position AdriverZ)s, %(Debut Year)s, %(Debut Circuit)s, %(Final Year)s, %(Final Circuit)s, %(Best championship position)s, %(Best championship year)s, %(Best championship year AdriverZ)s, %(Best championship driver)s)]\n[parameters: ({'index': 0, 'ID': 'bdd5798a2295474dbb761bf59104ab7a', 'Team number': 1, 'Team Name': 'AAW Racing ', 'Name': 'AAW Racing', 'Year active': 1974, 'Best race starting position': 25, 'Best race finishing position': 21.0, 'Drivers entrance': 5, 'Race starts': 5, 'Seasons': 1, 'Circuits': 5, 'Drivers': 1, 'First row starts': 4, 'Two drivers on first row': 0, 'Two drivers finish 1 and 2': 0, 'All drivers on podium': 0, 'All drivers in points': 0, 'Victories': 0, 'Podiums': 0, 'Pole pos.': 0, 'Fastest lap': 0, 'In points': 0, 'Points': 0, 'Best championship position AdriverZ': 'nan', 'Debut Year': '1974', 'Debut Circuit': 'Anderstorp', 'Final Year': '1974', 'Final Circuit': 'Monza', 'Best championship position': 'None', 'Best championship year': None, 'Best championship year AdriverZ': None, 'Best championship driver': None}, {'index': 1, 'ID': '34d952cceaca444586e2e67ec91b72a3', 'Team number': 2, 'Team Name': 'Ace Garage Rotherham ', 'Name': 'Ace Garage Rotherham', 'Year active': 1959, 'Best race starting position': '', 'Best race finishing position': 28.0, 'Drivers entrance': 1, 'Race starts': 1, 'Seasons': 1, 'Circuits': 1, 'Drivers': 1, 'First row starts': 1, 'Two drivers on first row': 0, 'Two drivers finish 1 and 2': 0, 'All drivers on podium': 0, 'All drivers in points': 0, 'Victories': 0, 'Podiums': 0, 'Pole pos.': 0, 'Fastest lap': 0, 'In points': 0, 'Points': 0, 'Best championship position AdriverZ': 'nan', 'Debut Year': '1959', 'Debut Circuit': 'Aintree', 'Final Year': '1959', 'Final Circuit': 'Aintree', 'Best championship position': 'None', 'Best championship year': None, 'Best championship year AdriverZ': None, 'Best championship driver': None}, {'index': 2, 'ID': '5add5a3a33614aa0ba943df0f3cb314b', 'Team number': 3, 'Team Name': 'Adams ', 'Name': None, 'Year active': None, 'Best race starting position': None, 'Best race finishing position': None, 'Drivers entrance': 0, 'Race starts': 0, 'Seasons': 0, 'Circuits': 0, 'Drivers': 0, 'First row starts': 0, 'Two drivers on first row': 0, 'Two drivers finish 1 and 2': 0, 'All drivers on podium': 0, 'All drivers in points': 0, 'Victories': 0, 'Podiums': 0, 'Pole pos.': 0, 'Fastest lap': 0, 'In points': 0, 'Points': 0, 'Best championship position AdriverZ': 'nan', 'Debut Year': None, 'Debut Circuit': 'nan', 'Final Year': None, 'Final Circuit': 'nan', 'Best championship position': 'nan', 'Best championship year': None, 'Best championship year AdriverZ': None, 'Best championship driver': None}, {'index': 3, 'ID': '78c42ce4049940e6abc154438069f067', 'Team number': 4, 'Team Name': 'Adolf Brudes ', 'Name': 'Adolf Brudes', 'Year active': 1952, 'Best race starting position': 19, 'Best race finishing position': 17.0, 'Drivers entrance': 1, 'Race starts': 1, 'Seasons': 1, 'Circuits': 1, 'Drivers': 1, 'First row starts': 0, 'Two drivers on first row': 0, 'Two drivers finish 1 and 2': 0, 'All drivers on podium': 0, 'All drivers in points': 0, 'Victories': 0, 'Podiums': 0, 'Pole pos.': 0, 'Fastest lap': 0, 'In points': 0, 'Points': 0, 'Best championship position AdriverZ': 'nan', 'Debut Year': '1952', 'Debut Circuit': 'Nurburgring', 'Final Year': '1952', 'Final Circuit': 'Nurburgring', 'Best championship position': 'None', 'Best championship year': None, 'Best championship year AdriverZ': None, 'Best championship driver': None}, {'index': 4, 'ID': 'c4b2a33c4fce410a90697c72d3b6fb02', 'Team number': 5, 'Team Name': 'AE Moss ', 'Name': 'AE Moss', 'Year active': 1954, 'Best race starting position': 3, 'Best race finishing position': 16.0, 'Drivers entrance': 2, 'Race starts': 2, 'Seasons': 1, 'Circuits': 2, 'Drivers': 1, 'First row starts': 0, 'Two drivers on first row': 0, 'Two drivers finish 1 and 2': 0, 'All drivers on podium': 0, 'All drivers in points': 1, 'Victories': 0, 'Podiums': 0, 'Pole pos.': 0, 'Fastest lap': 1, 'In points': 1, 'Points': '0.14', 'Best championship position AdriverZ': '14', 'Debut Year': '1954', 'Debut Circuit': 'Silverstone', 'Final Year': '1954', 'Final Circuit': 'Nurburgring', 'Best championship position': 'None', 'Best championship year': None, 'Best championship year AdriverZ': '1954', 'Best championship driver': 'Stirling Moss'}, {'index': 5, 'ID': 'a8c216466f3340ca87a4c7690f857b30', 'Team number': 6, 'Team Name': 'AFM ', 'Name': 'AFM', 'Year active': 1952, 'Best race starting position': 14, 'Best race finishing position': 18.0, 'Drivers entrance': 3, 'Race starts': 2, 'Seasons': 1, 'Circuits': 2, 'Drivers': 3, 'First row starts': 0, 'Two drivers on first row': 0, 'Two drivers finish 1 and 2': 0, 'All drivers on podium': 0, 'All drivers in points': 0, 'Victories': 0, 'Podiums': 0, 'Pole pos.': 0, 'Fastest lap': 0, 'In points': 0, 'Points': 0, 'Best championship position AdriverZ': 'nan', 'Debut Year': '1952', 'Debut Circuit': 'Bremgarten', 'Final Year': '1952', 'Final Circuit': 'Nurburgring', 'Best championship position': 'None', 'Best championship year': None, 'Best championship year AdriverZ': None, 'Best championship driver': None}, {'index': 6, 'ID': 'c0f6e8297f964ccfbb484b45f9c4a2ec', 'Team number': 7, 'Team Name': 'AGS ', 'Name': 'AGS', 'Year active': '1986 » 1991', 'Best race starting position': 10, 'Best race finishing position': 6.0, 'Drivers entrance': 124, 'Race starts': 80, 'Seasons': 6, 'Circuits': 21, 'Drivers': 10, 'First row starts': 47, 'Two drivers on first row': 0, 'Two drivers finish 1 and 2': 0, 'All drivers on podium': 0, 'All drivers in points': 2, 'Victories': 0, 'Podiums': 0, 'Pole pos.': 0, 'Fastest lap': 0, 'In points': 2, 'Points': '2.00', 'Best championship position AdriverZ': '19', 'Debut Year': '1986', 'Debut Circuit': 'Monza', 'Final Year': '1991', 'Final Circuit': 'Catalunya', 'Best championship position': '12', 'Best championship year': None, 'Best championship year AdriverZ': '1987', 'Best championship driver': 'Roberto Moreno'}, {'index': 7, 'ID': 'f500b45481f34a6180727a2948453709', 'Team number': 8, 'Team Name': 'Alan Brown Equipe ', 'Name': 'Alan Brown Equipe', 'Year active': 1959, 'Best race starting position': 23, 'Best race finishing position': 12.0, 'Drivers entrance': 2, 'Race starts': 1, 'Seasons': 1, 'Circuits': 1, 'Drivers': 2, 'First row starts': 0, 'Two drivers on first row': 0, 'Two drivers finish 1 and 2': 0, 'All drivers on podium': 0, 'All drivers in points': 0, 'Victories': 0, 'Podiums': 0, 'Pole pos.': 0, 'Fastest lap': 0, 'In points': 0, 'Points': 0, 'Best championship position AdriverZ': 'nan', 'Debut Year': '1959', 'Debut Circuit': 'Aintree', 'Final Year': '1959', 'Final Circuit': 'Aintree', 'Best championship position': 'None', 'Best championship year': None, 'Best championship year AdriverZ': None, 'Best championship driver': None}  ... displaying 10 of 467 total bound parameter sets ...  {'index': 465, 'ID': '62a7717aa4ce4ea7bf6159cc90882558', 'Team number': 466, 'Team Name': 'Yves Giraud-Cabantous ', 'Name': 'Yves Giraud-Cabantous', 'Year active': 1951, 'Best race starting position': 8, 'Best race finishing position': 5.0, 'Drivers entrance': 8, 'Race starts': 6, 'Seasons': 1, 'Circuits': 6, 'Drivers': 2, 'First row starts': 0, 'Two drivers on first row': 0, 'Two drivers finish 1 and 2': 0, 'All drivers on podium': 0, 'All drivers in points': 1, 'Victories': 0, 'Podiums': 0, 'Pole pos.': 0, 'Fastest lap': 0, 'In points': 1, 'Points': '2.00', 'Best championship position AdriverZ': '15', 'Debut Year': '1951', 'Debut Circuit': 'Bremgarten', 'Final Year': '1951', 'Final Circuit': 'Pedralbes', 'Best championship position': 'None', 'Best championship year': None, 'Best championship year AdriverZ': '1951', 'Best championship driver': 'Yves Giraud-Cabantous'}, {'index': 466, 'ID': '9b55ce6558214d9686d2aaabb4f16f59', 'Team number': 467, 'Team Name': 'Zakspeed ', 'Name': 'Zakspeed', 'Year active': '1985 » 1989', 'Best race starting position': 13, 'Best race finishing position': 5.0, 'Drivers entrance': 136, 'Race starts': 74, 'Seasons': 5, 'Circuits': 21, 'Drivers': 7, 'First row starts': 30, 'Two drivers on first row': 0, 'Two drivers finish 1 and 2': 0, 'All drivers on podium': 0, 'All drivers in points': 0, 'Victories': 0, 'Podiums': 0, 'Pole pos.': 0, 'Fastest lap': 0, 'In points': 1, 'Points': '2.00', 'Best championship position AdriverZ': '18', 'Debut Year': '1985', 'Debut Circuit': 'Estoril', 'Final Year': '1989', 'Final Circuit': 'Adelaide', 'Best championship position': '10', 'Best championship year': None, 'Best championship year AdriverZ': '1987', 'Best championship driver': 'Martin Brundle'})]\n(Background on this error at: https://sqlalche.me/e/14/f405)",
     "output_type": "error",
     "traceback": [
      "\u001b[0;31m---------------------------------------------------------------------------\u001b[0m",
      "\u001b[0;31mUndefinedColumn\u001b[0m                           Traceback (most recent call last)",
      "File \u001b[0;32m~/miniconda3/lib/python3.9/site-packages/sqlalchemy/engine/base.py:1880\u001b[0m, in \u001b[0;36mConnection._execute_context\u001b[0;34m(self, dialect, constructor, statement, parameters, execution_options, *args, **kw)\u001b[0m\n\u001b[1;32m   1879\u001b[0m     \u001b[39mif\u001b[39;00m \u001b[39mnot\u001b[39;00m evt_handled:\n\u001b[0;32m-> 1880\u001b[0m         \u001b[39mself\u001b[39;49m\u001b[39m.\u001b[39;49mdialect\u001b[39m.\u001b[39;49mdo_executemany(\n\u001b[1;32m   1881\u001b[0m             cursor, statement, parameters, context\n\u001b[1;32m   1882\u001b[0m         )\n\u001b[1;32m   1883\u001b[0m \u001b[39melif\u001b[39;00m \u001b[39mnot\u001b[39;00m parameters \u001b[39mand\u001b[39;00m context\u001b[39m.\u001b[39mno_parameters:\n",
      "File \u001b[0;32m~/miniconda3/lib/python3.9/site-packages/sqlalchemy/dialects/postgresql/psycopg2.py:982\u001b[0m, in \u001b[0;36mPGDialect_psycopg2.do_executemany\u001b[0;34m(self, cursor, statement, parameters, context)\u001b[0m\n\u001b[1;32m    981\u001b[0m     xtras \u001b[39m=\u001b[39m \u001b[39mself\u001b[39m\u001b[39m.\u001b[39m_psycopg2_extras()\n\u001b[0;32m--> 982\u001b[0m     context\u001b[39m.\u001b[39m_psycopg2_fetched_rows \u001b[39m=\u001b[39m xtras\u001b[39m.\u001b[39;49mexecute_values(\n\u001b[1;32m    983\u001b[0m         cursor,\n\u001b[1;32m    984\u001b[0m         statement,\n\u001b[1;32m    985\u001b[0m         parameters,\n\u001b[1;32m    986\u001b[0m         template\u001b[39m=\u001b[39;49mexecutemany_values,\n\u001b[1;32m    987\u001b[0m         fetch\u001b[39m=\u001b[39;49m\u001b[39mbool\u001b[39;49m(context\u001b[39m.\u001b[39;49mcompiled\u001b[39m.\u001b[39;49mreturning),\n\u001b[1;32m    988\u001b[0m         \u001b[39m*\u001b[39;49m\u001b[39m*\u001b[39;49mkwargs\n\u001b[1;32m    989\u001b[0m     )\n\u001b[1;32m    991\u001b[0m \u001b[39melif\u001b[39;00m \u001b[39mself\u001b[39m\u001b[39m.\u001b[39mexecutemany_mode \u001b[39m&\u001b[39m EXECUTEMANY_BATCH:\n",
      "File \u001b[0;32m~/miniconda3/lib/python3.9/site-packages/psycopg2/extras.py:1270\u001b[0m, in \u001b[0;36mexecute_values\u001b[0;34m(cur, sql, argslist, template, page_size, fetch)\u001b[0m\n\u001b[1;32m   1269\u001b[0m parts[\u001b[39m-\u001b[39m\u001b[39m1\u001b[39m:] \u001b[39m=\u001b[39m post\n\u001b[0;32m-> 1270\u001b[0m cur\u001b[39m.\u001b[39;49mexecute(\u001b[39mb\u001b[39;49m\u001b[39m'\u001b[39;49m\u001b[39m'\u001b[39;49m\u001b[39m.\u001b[39;49mjoin(parts))\n\u001b[1;32m   1271\u001b[0m \u001b[39mif\u001b[39;00m fetch:\n",
      "\u001b[0;31mUndefinedColumn\u001b[0m: column \"Team number\" of relation \"Teams\" does not exist\nLINE 1: INSERT INTO \"Teams\" (index, \"ID\", \"Team number\", \"Team Name\"...\n                                          ^\n",
      "\nThe above exception was the direct cause of the following exception:\n",
      "\u001b[0;31mProgrammingError\u001b[0m                          Traceback (most recent call last)",
      "\u001b[1;32m/home/andrew/AICore_work/Data-Collection-Pipeline/data_clean.ipynb Cell 7\u001b[0m in \u001b[0;36m<cell line: 6>\u001b[0;34m()\u001b[0m\n\u001b[1;32m      <a href='vscode-notebook-cell:/home/andrew/AICore_work/Data-Collection-Pipeline/data_clean.ipynb#W6sZmlsZQ%3D%3D?line=3'>4</a>\u001b[0m df \u001b[39m=\u001b[39m df\u001b[39m.\u001b[39mdrop(\u001b[39m\"\u001b[39m\u001b[39mBest championship position (constructor)\u001b[39m\u001b[39m\"\u001b[39m, axis\u001b[39m=\u001b[39m\u001b[39m1\u001b[39m)\n\u001b[1;32m      <a href='vscode-notebook-cell:/home/andrew/AICore_work/Data-Collection-Pipeline/data_clean.ipynb#W6sZmlsZQ%3D%3D?line=4'>5</a>\u001b[0m clean_team_data \u001b[39m=\u001b[39m df\n\u001b[0;32m----> <a href='vscode-notebook-cell:/home/andrew/AICore_work/Data-Collection-Pipeline/data_clean.ipynb#W6sZmlsZQ%3D%3D?line=5'>6</a>\u001b[0m clean_team_data\u001b[39m.\u001b[39;49mto_sql(\u001b[39m'\u001b[39;49m\u001b[39mTeams\u001b[39;49m\u001b[39m'\u001b[39;49m, engine, if_exists\u001b[39m=\u001b[39;49m\u001b[39m'\u001b[39;49m\u001b[39mappend\u001b[39;49m\u001b[39m'\u001b[39;49m)\n",
      "File \u001b[0;32m~/miniconda3/lib/python3.9/site-packages/pandas/core/generic.py:2951\u001b[0m, in \u001b[0;36mNDFrame.to_sql\u001b[0;34m(self, name, con, schema, if_exists, index, index_label, chunksize, dtype, method)\u001b[0m\n\u001b[1;32m   2794\u001b[0m \u001b[39m\"\"\"\u001b[39;00m\n\u001b[1;32m   2795\u001b[0m \u001b[39mWrite records stored in a DataFrame to a SQL database.\u001b[39;00m\n\u001b[1;32m   2796\u001b[0m \n\u001b[0;32m   (...)\u001b[0m\n\u001b[1;32m   2947\u001b[0m \u001b[39m[(1,), (None,), (2,)]\u001b[39;00m\n\u001b[1;32m   2948\u001b[0m \u001b[39m\"\"\"\u001b[39;00m  \u001b[39m# noqa:E501\u001b[39;00m\n\u001b[1;32m   2949\u001b[0m \u001b[39mfrom\u001b[39;00m \u001b[39mpandas\u001b[39;00m\u001b[39m.\u001b[39;00m\u001b[39mio\u001b[39;00m \u001b[39mimport\u001b[39;00m sql\n\u001b[0;32m-> 2951\u001b[0m \u001b[39mreturn\u001b[39;00m sql\u001b[39m.\u001b[39;49mto_sql(\n\u001b[1;32m   2952\u001b[0m     \u001b[39mself\u001b[39;49m,\n\u001b[1;32m   2953\u001b[0m     name,\n\u001b[1;32m   2954\u001b[0m     con,\n\u001b[1;32m   2955\u001b[0m     schema\u001b[39m=\u001b[39;49mschema,\n\u001b[1;32m   2956\u001b[0m     if_exists\u001b[39m=\u001b[39;49mif_exists,\n\u001b[1;32m   2957\u001b[0m     index\u001b[39m=\u001b[39;49mindex,\n\u001b[1;32m   2958\u001b[0m     index_label\u001b[39m=\u001b[39;49mindex_label,\n\u001b[1;32m   2959\u001b[0m     chunksize\u001b[39m=\u001b[39;49mchunksize,\n\u001b[1;32m   2960\u001b[0m     dtype\u001b[39m=\u001b[39;49mdtype,\n\u001b[1;32m   2961\u001b[0m     method\u001b[39m=\u001b[39;49mmethod,\n\u001b[1;32m   2962\u001b[0m )\n",
      "File \u001b[0;32m~/miniconda3/lib/python3.9/site-packages/pandas/io/sql.py:697\u001b[0m, in \u001b[0;36mto_sql\u001b[0;34m(frame, name, con, schema, if_exists, index, index_label, chunksize, dtype, method, engine, **engine_kwargs)\u001b[0m\n\u001b[1;32m    692\u001b[0m \u001b[39melif\u001b[39;00m \u001b[39mnot\u001b[39;00m \u001b[39misinstance\u001b[39m(frame, DataFrame):\n\u001b[1;32m    693\u001b[0m     \u001b[39mraise\u001b[39;00m \u001b[39mNotImplementedError\u001b[39;00m(\n\u001b[1;32m    694\u001b[0m         \u001b[39m\"\u001b[39m\u001b[39m'\u001b[39m\u001b[39mframe\u001b[39m\u001b[39m'\u001b[39m\u001b[39m argument should be either a Series or a DataFrame\u001b[39m\u001b[39m\"\u001b[39m\n\u001b[1;32m    695\u001b[0m     )\n\u001b[0;32m--> 697\u001b[0m \u001b[39mreturn\u001b[39;00m pandas_sql\u001b[39m.\u001b[39;49mto_sql(\n\u001b[1;32m    698\u001b[0m     frame,\n\u001b[1;32m    699\u001b[0m     name,\n\u001b[1;32m    700\u001b[0m     if_exists\u001b[39m=\u001b[39;49mif_exists,\n\u001b[1;32m    701\u001b[0m     index\u001b[39m=\u001b[39;49mindex,\n\u001b[1;32m    702\u001b[0m     index_label\u001b[39m=\u001b[39;49mindex_label,\n\u001b[1;32m    703\u001b[0m     schema\u001b[39m=\u001b[39;49mschema,\n\u001b[1;32m    704\u001b[0m     chunksize\u001b[39m=\u001b[39;49mchunksize,\n\u001b[1;32m    705\u001b[0m     dtype\u001b[39m=\u001b[39;49mdtype,\n\u001b[1;32m    706\u001b[0m     method\u001b[39m=\u001b[39;49mmethod,\n\u001b[1;32m    707\u001b[0m     engine\u001b[39m=\u001b[39;49mengine,\n\u001b[1;32m    708\u001b[0m     \u001b[39m*\u001b[39;49m\u001b[39m*\u001b[39;49mengine_kwargs,\n\u001b[1;32m    709\u001b[0m )\n",
      "File \u001b[0;32m~/miniconda3/lib/python3.9/site-packages/pandas/io/sql.py:1739\u001b[0m, in \u001b[0;36mSQLDatabase.to_sql\u001b[0;34m(self, frame, name, if_exists, index, index_label, schema, chunksize, dtype, method, engine, **engine_kwargs)\u001b[0m\n\u001b[1;32m   1727\u001b[0m sql_engine \u001b[39m=\u001b[39m get_engine(engine)\n\u001b[1;32m   1729\u001b[0m table \u001b[39m=\u001b[39m \u001b[39mself\u001b[39m\u001b[39m.\u001b[39mprep_table(\n\u001b[1;32m   1730\u001b[0m     frame\u001b[39m=\u001b[39mframe,\n\u001b[1;32m   1731\u001b[0m     name\u001b[39m=\u001b[39mname,\n\u001b[0;32m   (...)\u001b[0m\n\u001b[1;32m   1736\u001b[0m     dtype\u001b[39m=\u001b[39mdtype,\n\u001b[1;32m   1737\u001b[0m )\n\u001b[0;32m-> 1739\u001b[0m total_inserted \u001b[39m=\u001b[39m sql_engine\u001b[39m.\u001b[39;49minsert_records(\n\u001b[1;32m   1740\u001b[0m     table\u001b[39m=\u001b[39;49mtable,\n\u001b[1;32m   1741\u001b[0m     con\u001b[39m=\u001b[39;49m\u001b[39mself\u001b[39;49m\u001b[39m.\u001b[39;49mconnectable,\n\u001b[1;32m   1742\u001b[0m     frame\u001b[39m=\u001b[39;49mframe,\n\u001b[1;32m   1743\u001b[0m     name\u001b[39m=\u001b[39;49mname,\n\u001b[1;32m   1744\u001b[0m     index\u001b[39m=\u001b[39;49mindex,\n\u001b[1;32m   1745\u001b[0m     schema\u001b[39m=\u001b[39;49mschema,\n\u001b[1;32m   1746\u001b[0m     chunksize\u001b[39m=\u001b[39;49mchunksize,\n\u001b[1;32m   1747\u001b[0m     method\u001b[39m=\u001b[39;49mmethod,\n\u001b[1;32m   1748\u001b[0m     \u001b[39m*\u001b[39;49m\u001b[39m*\u001b[39;49mengine_kwargs,\n\u001b[1;32m   1749\u001b[0m )\n\u001b[1;32m   1751\u001b[0m \u001b[39mself\u001b[39m\u001b[39m.\u001b[39mcheck_case_sensitive(name\u001b[39m=\u001b[39mname, schema\u001b[39m=\u001b[39mschema)\n\u001b[1;32m   1752\u001b[0m \u001b[39mreturn\u001b[39;00m total_inserted\n",
      "File \u001b[0;32m~/miniconda3/lib/python3.9/site-packages/pandas/io/sql.py:1332\u001b[0m, in \u001b[0;36mSQLAlchemyEngine.insert_records\u001b[0;34m(self, table, con, frame, name, index, schema, chunksize, method, **engine_kwargs)\u001b[0m\n\u001b[1;32m   1330\u001b[0m     \u001b[39mraise\u001b[39;00m \u001b[39mValueError\u001b[39;00m(\u001b[39m\"\u001b[39m\u001b[39minf cannot be used with MySQL\u001b[39m\u001b[39m\"\u001b[39m) \u001b[39mfrom\u001b[39;00m \u001b[39merr\u001b[39;00m\n\u001b[1;32m   1331\u001b[0m \u001b[39melse\u001b[39;00m:\n\u001b[0;32m-> 1332\u001b[0m     \u001b[39mraise\u001b[39;00m err\n",
      "File \u001b[0;32m~/miniconda3/lib/python3.9/site-packages/pandas/io/sql.py:1322\u001b[0m, in \u001b[0;36mSQLAlchemyEngine.insert_records\u001b[0;34m(self, table, con, frame, name, index, schema, chunksize, method, **engine_kwargs)\u001b[0m\n\u001b[1;32m   1319\u001b[0m \u001b[39mfrom\u001b[39;00m \u001b[39msqlalchemy\u001b[39;00m \u001b[39mimport\u001b[39;00m exc\n\u001b[1;32m   1321\u001b[0m \u001b[39mtry\u001b[39;00m:\n\u001b[0;32m-> 1322\u001b[0m     \u001b[39mreturn\u001b[39;00m table\u001b[39m.\u001b[39;49minsert(chunksize\u001b[39m=\u001b[39;49mchunksize, method\u001b[39m=\u001b[39;49mmethod)\n\u001b[1;32m   1323\u001b[0m \u001b[39mexcept\u001b[39;00m exc\u001b[39m.\u001b[39mSQLAlchemyError \u001b[39mas\u001b[39;00m err:\n\u001b[1;32m   1324\u001b[0m     \u001b[39m# GH34431\u001b[39;00m\n\u001b[1;32m   1325\u001b[0m     \u001b[39m# https://stackoverflow.com/a/67358288/6067848\u001b[39;00m\n\u001b[1;32m   1326\u001b[0m     msg \u001b[39m=\u001b[39m \u001b[39mr\u001b[39m\u001b[39m\"\"\"\u001b[39m\u001b[39m(\u001b[39m\u001b[39m\\\u001b[39m\u001b[39m(1054, \u001b[39m\u001b[39m\"\u001b[39m\u001b[39mUnknown column \u001b[39m\u001b[39m'\u001b[39m\u001b[39minf(e0)?\u001b[39m\u001b[39m'\u001b[39m\u001b[39m in \u001b[39m\u001b[39m'\u001b[39m\u001b[39mfield list\u001b[39m\u001b[39m'\u001b[39m\u001b[39m\"\u001b[39m\u001b[39m\\\u001b[39m\u001b[39m))(?#\u001b[39m\n\u001b[1;32m   1327\u001b[0m \u001b[39m    )|inf can not be used with MySQL\u001b[39m\u001b[39m\"\"\"\u001b[39m\n",
      "File \u001b[0;32m~/miniconda3/lib/python3.9/site-packages/pandas/io/sql.py:950\u001b[0m, in \u001b[0;36mSQLTable.insert\u001b[0;34m(self, chunksize, method)\u001b[0m\n\u001b[1;32m    947\u001b[0m     \u001b[39mbreak\u001b[39;00m\n\u001b[1;32m    949\u001b[0m chunk_iter \u001b[39m=\u001b[39m \u001b[39mzip\u001b[39m(\u001b[39m*\u001b[39m(arr[start_i:end_i] \u001b[39mfor\u001b[39;00m arr \u001b[39min\u001b[39;00m data_list))\n\u001b[0;32m--> 950\u001b[0m num_inserted \u001b[39m=\u001b[39m exec_insert(conn, keys, chunk_iter)\n\u001b[1;32m    951\u001b[0m \u001b[39mif\u001b[39;00m num_inserted \u001b[39mis\u001b[39;00m \u001b[39mNone\u001b[39;00m:\n\u001b[1;32m    952\u001b[0m     total_inserted \u001b[39m=\u001b[39m \u001b[39mNone\u001b[39;00m\n",
      "File \u001b[0;32m~/miniconda3/lib/python3.9/site-packages/pandas/io/sql.py:857\u001b[0m, in \u001b[0;36mSQLTable._execute_insert\u001b[0;34m(self, conn, keys, data_iter)\u001b[0m\n\u001b[1;32m    845\u001b[0m \u001b[39m\"\"\"\u001b[39;00m\n\u001b[1;32m    846\u001b[0m \u001b[39mExecute SQL statement inserting data\u001b[39;00m\n\u001b[1;32m    847\u001b[0m \n\u001b[0;32m   (...)\u001b[0m\n\u001b[1;32m    854\u001b[0m \u001b[39m   Each item contains a list of values to be inserted\u001b[39;00m\n\u001b[1;32m    855\u001b[0m \u001b[39m\"\"\"\u001b[39;00m\n\u001b[1;32m    856\u001b[0m data \u001b[39m=\u001b[39m [\u001b[39mdict\u001b[39m(\u001b[39mzip\u001b[39m(keys, row)) \u001b[39mfor\u001b[39;00m row \u001b[39min\u001b[39;00m data_iter]\n\u001b[0;32m--> 857\u001b[0m result \u001b[39m=\u001b[39m conn\u001b[39m.\u001b[39;49mexecute(\u001b[39mself\u001b[39;49m\u001b[39m.\u001b[39;49mtable\u001b[39m.\u001b[39;49minsert(), data)\n\u001b[1;32m    858\u001b[0m \u001b[39mreturn\u001b[39;00m result\u001b[39m.\u001b[39mrowcount\n",
      "File \u001b[0;32m~/miniconda3/lib/python3.9/site-packages/sqlalchemy/engine/base.py:1380\u001b[0m, in \u001b[0;36mConnection.execute\u001b[0;34m(self, statement, *multiparams, **params)\u001b[0m\n\u001b[1;32m   1376\u001b[0m     util\u001b[39m.\u001b[39mraise_(\n\u001b[1;32m   1377\u001b[0m         exc\u001b[39m.\u001b[39mObjectNotExecutableError(statement), replace_context\u001b[39m=\u001b[39merr\n\u001b[1;32m   1378\u001b[0m     )\n\u001b[1;32m   1379\u001b[0m \u001b[39melse\u001b[39;00m:\n\u001b[0;32m-> 1380\u001b[0m     \u001b[39mreturn\u001b[39;00m meth(\u001b[39mself\u001b[39;49m, multiparams, params, _EMPTY_EXECUTION_OPTS)\n",
      "File \u001b[0;32m~/miniconda3/lib/python3.9/site-packages/sqlalchemy/sql/elements.py:333\u001b[0m, in \u001b[0;36mClauseElement._execute_on_connection\u001b[0;34m(self, connection, multiparams, params, execution_options, _force)\u001b[0m\n\u001b[1;32m    329\u001b[0m \u001b[39mdef\u001b[39;00m \u001b[39m_execute_on_connection\u001b[39m(\n\u001b[1;32m    330\u001b[0m     \u001b[39mself\u001b[39m, connection, multiparams, params, execution_options, _force\u001b[39m=\u001b[39m\u001b[39mFalse\u001b[39;00m\n\u001b[1;32m    331\u001b[0m ):\n\u001b[1;32m    332\u001b[0m     \u001b[39mif\u001b[39;00m _force \u001b[39mor\u001b[39;00m \u001b[39mself\u001b[39m\u001b[39m.\u001b[39msupports_execution:\n\u001b[0;32m--> 333\u001b[0m         \u001b[39mreturn\u001b[39;00m connection\u001b[39m.\u001b[39;49m_execute_clauseelement(\n\u001b[1;32m    334\u001b[0m             \u001b[39mself\u001b[39;49m, multiparams, params, execution_options\n\u001b[1;32m    335\u001b[0m         )\n\u001b[1;32m    336\u001b[0m     \u001b[39melse\u001b[39;00m:\n\u001b[1;32m    337\u001b[0m         \u001b[39mraise\u001b[39;00m exc\u001b[39m.\u001b[39mObjectNotExecutableError(\u001b[39mself\u001b[39m)\n",
      "File \u001b[0;32m~/miniconda3/lib/python3.9/site-packages/sqlalchemy/engine/base.py:1572\u001b[0m, in \u001b[0;36mConnection._execute_clauseelement\u001b[0;34m(self, elem, multiparams, params, execution_options)\u001b[0m\n\u001b[1;32m   1560\u001b[0m compiled_cache \u001b[39m=\u001b[39m execution_options\u001b[39m.\u001b[39mget(\n\u001b[1;32m   1561\u001b[0m     \u001b[39m\"\u001b[39m\u001b[39mcompiled_cache\u001b[39m\u001b[39m\"\u001b[39m, \u001b[39mself\u001b[39m\u001b[39m.\u001b[39mengine\u001b[39m.\u001b[39m_compiled_cache\n\u001b[1;32m   1562\u001b[0m )\n\u001b[1;32m   1564\u001b[0m compiled_sql, extracted_params, cache_hit \u001b[39m=\u001b[39m elem\u001b[39m.\u001b[39m_compile_w_cache(\n\u001b[1;32m   1565\u001b[0m     dialect\u001b[39m=\u001b[39mdialect,\n\u001b[1;32m   1566\u001b[0m     compiled_cache\u001b[39m=\u001b[39mcompiled_cache,\n\u001b[0;32m   (...)\u001b[0m\n\u001b[1;32m   1570\u001b[0m     linting\u001b[39m=\u001b[39m\u001b[39mself\u001b[39m\u001b[39m.\u001b[39mdialect\u001b[39m.\u001b[39mcompiler_linting \u001b[39m|\u001b[39m compiler\u001b[39m.\u001b[39mWARN_LINTING,\n\u001b[1;32m   1571\u001b[0m )\n\u001b[0;32m-> 1572\u001b[0m ret \u001b[39m=\u001b[39m \u001b[39mself\u001b[39;49m\u001b[39m.\u001b[39;49m_execute_context(\n\u001b[1;32m   1573\u001b[0m     dialect,\n\u001b[1;32m   1574\u001b[0m     dialect\u001b[39m.\u001b[39;49mexecution_ctx_cls\u001b[39m.\u001b[39;49m_init_compiled,\n\u001b[1;32m   1575\u001b[0m     compiled_sql,\n\u001b[1;32m   1576\u001b[0m     distilled_params,\n\u001b[1;32m   1577\u001b[0m     execution_options,\n\u001b[1;32m   1578\u001b[0m     compiled_sql,\n\u001b[1;32m   1579\u001b[0m     distilled_params,\n\u001b[1;32m   1580\u001b[0m     elem,\n\u001b[1;32m   1581\u001b[0m     extracted_params,\n\u001b[1;32m   1582\u001b[0m     cache_hit\u001b[39m=\u001b[39;49mcache_hit,\n\u001b[1;32m   1583\u001b[0m )\n\u001b[1;32m   1584\u001b[0m \u001b[39mif\u001b[39;00m has_events:\n\u001b[1;32m   1585\u001b[0m     \u001b[39mself\u001b[39m\u001b[39m.\u001b[39mdispatch\u001b[39m.\u001b[39mafter_execute(\n\u001b[1;32m   1586\u001b[0m         \u001b[39mself\u001b[39m,\n\u001b[1;32m   1587\u001b[0m         elem,\n\u001b[0;32m   (...)\u001b[0m\n\u001b[1;32m   1591\u001b[0m         ret,\n\u001b[1;32m   1592\u001b[0m     )\n",
      "File \u001b[0;32m~/miniconda3/lib/python3.9/site-packages/sqlalchemy/engine/base.py:1943\u001b[0m, in \u001b[0;36mConnection._execute_context\u001b[0;34m(self, dialect, constructor, statement, parameters, execution_options, *args, **kw)\u001b[0m\n\u001b[1;32m   1940\u001b[0m             branched\u001b[39m.\u001b[39mclose()\n\u001b[1;32m   1942\u001b[0m \u001b[39mexcept\u001b[39;00m \u001b[39mBaseException\u001b[39;00m \u001b[39mas\u001b[39;00m e:\n\u001b[0;32m-> 1943\u001b[0m     \u001b[39mself\u001b[39;49m\u001b[39m.\u001b[39;49m_handle_dbapi_exception(\n\u001b[1;32m   1944\u001b[0m         e, statement, parameters, cursor, context\n\u001b[1;32m   1945\u001b[0m     )\n\u001b[1;32m   1947\u001b[0m \u001b[39mreturn\u001b[39;00m result\n",
      "File \u001b[0;32m~/miniconda3/lib/python3.9/site-packages/sqlalchemy/engine/base.py:2124\u001b[0m, in \u001b[0;36mConnection._handle_dbapi_exception\u001b[0;34m(self, e, statement, parameters, cursor, context)\u001b[0m\n\u001b[1;32m   2122\u001b[0m     util\u001b[39m.\u001b[39mraise_(newraise, with_traceback\u001b[39m=\u001b[39mexc_info[\u001b[39m2\u001b[39m], from_\u001b[39m=\u001b[39me)\n\u001b[1;32m   2123\u001b[0m \u001b[39melif\u001b[39;00m should_wrap:\n\u001b[0;32m-> 2124\u001b[0m     util\u001b[39m.\u001b[39;49mraise_(\n\u001b[1;32m   2125\u001b[0m         sqlalchemy_exception, with_traceback\u001b[39m=\u001b[39;49mexc_info[\u001b[39m2\u001b[39;49m], from_\u001b[39m=\u001b[39;49me\n\u001b[1;32m   2126\u001b[0m     )\n\u001b[1;32m   2127\u001b[0m \u001b[39melse\u001b[39;00m:\n\u001b[1;32m   2128\u001b[0m     util\u001b[39m.\u001b[39mraise_(exc_info[\u001b[39m1\u001b[39m], with_traceback\u001b[39m=\u001b[39mexc_info[\u001b[39m2\u001b[39m])\n",
      "File \u001b[0;32m~/miniconda3/lib/python3.9/site-packages/sqlalchemy/util/compat.py:208\u001b[0m, in \u001b[0;36mraise_\u001b[0;34m(***failed resolving arguments***)\u001b[0m\n\u001b[1;32m    205\u001b[0m     exception\u001b[39m.\u001b[39m__cause__ \u001b[39m=\u001b[39m replace_context\n\u001b[1;32m    207\u001b[0m \u001b[39mtry\u001b[39;00m:\n\u001b[0;32m--> 208\u001b[0m     \u001b[39mraise\u001b[39;00m exception\n\u001b[1;32m    209\u001b[0m \u001b[39mfinally\u001b[39;00m:\n\u001b[1;32m    210\u001b[0m     \u001b[39m# credit to\u001b[39;00m\n\u001b[1;32m    211\u001b[0m     \u001b[39m# https://cosmicpercolator.com/2016/01/13/exception-leaks-in-python-2-and-3/\u001b[39;00m\n\u001b[1;32m    212\u001b[0m     \u001b[39m# as the __traceback__ object creates a cycle\u001b[39;00m\n\u001b[1;32m    213\u001b[0m     \u001b[39mdel\u001b[39;00m exception, replace_context, from_, with_traceback\n",
      "File \u001b[0;32m~/miniconda3/lib/python3.9/site-packages/sqlalchemy/engine/base.py:1880\u001b[0m, in \u001b[0;36mConnection._execute_context\u001b[0;34m(self, dialect, constructor, statement, parameters, execution_options, *args, **kw)\u001b[0m\n\u001b[1;32m   1878\u001b[0m                 \u001b[39mbreak\u001b[39;00m\n\u001b[1;32m   1879\u001b[0m     \u001b[39mif\u001b[39;00m \u001b[39mnot\u001b[39;00m evt_handled:\n\u001b[0;32m-> 1880\u001b[0m         \u001b[39mself\u001b[39;49m\u001b[39m.\u001b[39;49mdialect\u001b[39m.\u001b[39;49mdo_executemany(\n\u001b[1;32m   1881\u001b[0m             cursor, statement, parameters, context\n\u001b[1;32m   1882\u001b[0m         )\n\u001b[1;32m   1883\u001b[0m \u001b[39melif\u001b[39;00m \u001b[39mnot\u001b[39;00m parameters \u001b[39mand\u001b[39;00m context\u001b[39m.\u001b[39mno_parameters:\n\u001b[1;32m   1884\u001b[0m     \u001b[39mif\u001b[39;00m \u001b[39mself\u001b[39m\u001b[39m.\u001b[39mdialect\u001b[39m.\u001b[39m_has_events:\n",
      "File \u001b[0;32m~/miniconda3/lib/python3.9/site-packages/sqlalchemy/dialects/postgresql/psycopg2.py:982\u001b[0m, in \u001b[0;36mPGDialect_psycopg2.do_executemany\u001b[0;34m(self, cursor, statement, parameters, context)\u001b[0m\n\u001b[1;32m    980\u001b[0m         kwargs \u001b[39m=\u001b[39m {}\n\u001b[1;32m    981\u001b[0m     xtras \u001b[39m=\u001b[39m \u001b[39mself\u001b[39m\u001b[39m.\u001b[39m_psycopg2_extras()\n\u001b[0;32m--> 982\u001b[0m     context\u001b[39m.\u001b[39m_psycopg2_fetched_rows \u001b[39m=\u001b[39m xtras\u001b[39m.\u001b[39;49mexecute_values(\n\u001b[1;32m    983\u001b[0m         cursor,\n\u001b[1;32m    984\u001b[0m         statement,\n\u001b[1;32m    985\u001b[0m         parameters,\n\u001b[1;32m    986\u001b[0m         template\u001b[39m=\u001b[39;49mexecutemany_values,\n\u001b[1;32m    987\u001b[0m         fetch\u001b[39m=\u001b[39;49m\u001b[39mbool\u001b[39;49m(context\u001b[39m.\u001b[39;49mcompiled\u001b[39m.\u001b[39;49mreturning),\n\u001b[1;32m    988\u001b[0m         \u001b[39m*\u001b[39;49m\u001b[39m*\u001b[39;49mkwargs\n\u001b[1;32m    989\u001b[0m     )\n\u001b[1;32m    991\u001b[0m \u001b[39melif\u001b[39;00m \u001b[39mself\u001b[39m\u001b[39m.\u001b[39mexecutemany_mode \u001b[39m&\u001b[39m EXECUTEMANY_BATCH:\n\u001b[1;32m    992\u001b[0m     \u001b[39mif\u001b[39;00m \u001b[39mself\u001b[39m\u001b[39m.\u001b[39mexecutemany_batch_page_size:\n",
      "File \u001b[0;32m~/miniconda3/lib/python3.9/site-packages/psycopg2/extras.py:1270\u001b[0m, in \u001b[0;36mexecute_values\u001b[0;34m(cur, sql, argslist, template, page_size, fetch)\u001b[0m\n\u001b[1;32m   1268\u001b[0m     parts\u001b[39m.\u001b[39mappend(\u001b[39mb\u001b[39m\u001b[39m'\u001b[39m\u001b[39m,\u001b[39m\u001b[39m'\u001b[39m)\n\u001b[1;32m   1269\u001b[0m parts[\u001b[39m-\u001b[39m\u001b[39m1\u001b[39m:] \u001b[39m=\u001b[39m post\n\u001b[0;32m-> 1270\u001b[0m cur\u001b[39m.\u001b[39;49mexecute(\u001b[39mb\u001b[39;49m\u001b[39m'\u001b[39;49m\u001b[39m'\u001b[39;49m\u001b[39m.\u001b[39;49mjoin(parts))\n\u001b[1;32m   1271\u001b[0m \u001b[39mif\u001b[39;00m fetch:\n\u001b[1;32m   1272\u001b[0m     result\u001b[39m.\u001b[39mextend(cur\u001b[39m.\u001b[39mfetchall())\n",
      "\u001b[0;31mProgrammingError\u001b[0m: (psycopg2.errors.UndefinedColumn) column \"Team number\" of relation \"Teams\" does not exist\nLINE 1: INSERT INTO \"Teams\" (index, \"ID\", \"Team number\", \"Team Name\"...\n                                          ^\n\n[SQL: INSERT INTO \"Teams\" (index, \"ID\", \"Team number\", \"Team Name\", \"Name\", \"Year active\", \"Best race starting position\", \"Best race finishing position\", \"Drivers entrance\", \"Race starts\", \"Seasons\", \"Circuits\", \"Drivers\", \"First row starts\", \"Two drivers on first row\", \"Two drivers finish 1 and 2\", \"All drivers on podium\", \"All drivers in points\", \"Victories\", \"Podiums\", \"Pole pos.\", \"Fastest lap\", \"In points\", \"Points\", \"Best championship position (driver)\", \"Debut Year\", \"Debut Circuit\", \"Final Year\", \"Final Circuit\", \"Best championship position\", \"Best championship year\", \"Best championship year (driver)\", \"Best championship driver\") VALUES (%(index)s, %(ID)s, %(Team number)s, %(Team Name)s, %(Name)s, %(Year active)s, %(Best race starting position)s, %(Best race finishing position)s, %(Drivers entrance)s, %(Race starts)s, %(Seasons)s, %(Circuits)s, %(Drivers)s, %(First row starts)s, %(Two drivers on first row)s, %(Two drivers finish 1 and 2)s, %(All drivers on podium)s, %(All drivers in points)s, %(Victories)s, %(Podiums)s, %(Pole pos.)s, %(Fastest lap)s, %(In points)s, %(Points)s, %(Best championship position AdriverZ)s, %(Debut Year)s, %(Debut Circuit)s, %(Final Year)s, %(Final Circuit)s, %(Best championship position)s, %(Best championship year)s, %(Best championship year AdriverZ)s, %(Best championship driver)s)]\n[parameters: ({'index': 0, 'ID': 'bdd5798a2295474dbb761bf59104ab7a', 'Team number': 1, 'Team Name': 'AAW Racing ', 'Name': 'AAW Racing', 'Year active': 1974, 'Best race starting position': 25, 'Best race finishing position': 21.0, 'Drivers entrance': 5, 'Race starts': 5, 'Seasons': 1, 'Circuits': 5, 'Drivers': 1, 'First row starts': 4, 'Two drivers on first row': 0, 'Two drivers finish 1 and 2': 0, 'All drivers on podium': 0, 'All drivers in points': 0, 'Victories': 0, 'Podiums': 0, 'Pole pos.': 0, 'Fastest lap': 0, 'In points': 0, 'Points': 0, 'Best championship position AdriverZ': 'nan', 'Debut Year': '1974', 'Debut Circuit': 'Anderstorp', 'Final Year': '1974', 'Final Circuit': 'Monza', 'Best championship position': 'None', 'Best championship year': None, 'Best championship year AdriverZ': None, 'Best championship driver': None}, {'index': 1, 'ID': '34d952cceaca444586e2e67ec91b72a3', 'Team number': 2, 'Team Name': 'Ace Garage Rotherham ', 'Name': 'Ace Garage Rotherham', 'Year active': 1959, 'Best race starting position': '', 'Best race finishing position': 28.0, 'Drivers entrance': 1, 'Race starts': 1, 'Seasons': 1, 'Circuits': 1, 'Drivers': 1, 'First row starts': 1, 'Two drivers on first row': 0, 'Two drivers finish 1 and 2': 0, 'All drivers on podium': 0, 'All drivers in points': 0, 'Victories': 0, 'Podiums': 0, 'Pole pos.': 0, 'Fastest lap': 0, 'In points': 0, 'Points': 0, 'Best championship position AdriverZ': 'nan', 'Debut Year': '1959', 'Debut Circuit': 'Aintree', 'Final Year': '1959', 'Final Circuit': 'Aintree', 'Best championship position': 'None', 'Best championship year': None, 'Best championship year AdriverZ': None, 'Best championship driver': None}, {'index': 2, 'ID': '5add5a3a33614aa0ba943df0f3cb314b', 'Team number': 3, 'Team Name': 'Adams ', 'Name': None, 'Year active': None, 'Best race starting position': None, 'Best race finishing position': None, 'Drivers entrance': 0, 'Race starts': 0, 'Seasons': 0, 'Circuits': 0, 'Drivers': 0, 'First row starts': 0, 'Two drivers on first row': 0, 'Two drivers finish 1 and 2': 0, 'All drivers on podium': 0, 'All drivers in points': 0, 'Victories': 0, 'Podiums': 0, 'Pole pos.': 0, 'Fastest lap': 0, 'In points': 0, 'Points': 0, 'Best championship position AdriverZ': 'nan', 'Debut Year': None, 'Debut Circuit': 'nan', 'Final Year': None, 'Final Circuit': 'nan', 'Best championship position': 'nan', 'Best championship year': None, 'Best championship year AdriverZ': None, 'Best championship driver': None}, {'index': 3, 'ID': '78c42ce4049940e6abc154438069f067', 'Team number': 4, 'Team Name': 'Adolf Brudes ', 'Name': 'Adolf Brudes', 'Year active': 1952, 'Best race starting position': 19, 'Best race finishing position': 17.0, 'Drivers entrance': 1, 'Race starts': 1, 'Seasons': 1, 'Circuits': 1, 'Drivers': 1, 'First row starts': 0, 'Two drivers on first row': 0, 'Two drivers finish 1 and 2': 0, 'All drivers on podium': 0, 'All drivers in points': 0, 'Victories': 0, 'Podiums': 0, 'Pole pos.': 0, 'Fastest lap': 0, 'In points': 0, 'Points': 0, 'Best championship position AdriverZ': 'nan', 'Debut Year': '1952', 'Debut Circuit': 'Nurburgring', 'Final Year': '1952', 'Final Circuit': 'Nurburgring', 'Best championship position': 'None', 'Best championship year': None, 'Best championship year AdriverZ': None, 'Best championship driver': None}, {'index': 4, 'ID': 'c4b2a33c4fce410a90697c72d3b6fb02', 'Team number': 5, 'Team Name': 'AE Moss ', 'Name': 'AE Moss', 'Year active': 1954, 'Best race starting position': 3, 'Best race finishing position': 16.0, 'Drivers entrance': 2, 'Race starts': 2, 'Seasons': 1, 'Circuits': 2, 'Drivers': 1, 'First row starts': 0, 'Two drivers on first row': 0, 'Two drivers finish 1 and 2': 0, 'All drivers on podium': 0, 'All drivers in points': 1, 'Victories': 0, 'Podiums': 0, 'Pole pos.': 0, 'Fastest lap': 1, 'In points': 1, 'Points': '0.14', 'Best championship position AdriverZ': '14', 'Debut Year': '1954', 'Debut Circuit': 'Silverstone', 'Final Year': '1954', 'Final Circuit': 'Nurburgring', 'Best championship position': 'None', 'Best championship year': None, 'Best championship year AdriverZ': '1954', 'Best championship driver': 'Stirling Moss'}, {'index': 5, 'ID': 'a8c216466f3340ca87a4c7690f857b30', 'Team number': 6, 'Team Name': 'AFM ', 'Name': 'AFM', 'Year active': 1952, 'Best race starting position': 14, 'Best race finishing position': 18.0, 'Drivers entrance': 3, 'Race starts': 2, 'Seasons': 1, 'Circuits': 2, 'Drivers': 3, 'First row starts': 0, 'Two drivers on first row': 0, 'Two drivers finish 1 and 2': 0, 'All drivers on podium': 0, 'All drivers in points': 0, 'Victories': 0, 'Podiums': 0, 'Pole pos.': 0, 'Fastest lap': 0, 'In points': 0, 'Points': 0, 'Best championship position AdriverZ': 'nan', 'Debut Year': '1952', 'Debut Circuit': 'Bremgarten', 'Final Year': '1952', 'Final Circuit': 'Nurburgring', 'Best championship position': 'None', 'Best championship year': None, 'Best championship year AdriverZ': None, 'Best championship driver': None}, {'index': 6, 'ID': 'c0f6e8297f964ccfbb484b45f9c4a2ec', 'Team number': 7, 'Team Name': 'AGS ', 'Name': 'AGS', 'Year active': '1986 » 1991', 'Best race starting position': 10, 'Best race finishing position': 6.0, 'Drivers entrance': 124, 'Race starts': 80, 'Seasons': 6, 'Circuits': 21, 'Drivers': 10, 'First row starts': 47, 'Two drivers on first row': 0, 'Two drivers finish 1 and 2': 0, 'All drivers on podium': 0, 'All drivers in points': 2, 'Victories': 0, 'Podiums': 0, 'Pole pos.': 0, 'Fastest lap': 0, 'In points': 2, 'Points': '2.00', 'Best championship position AdriverZ': '19', 'Debut Year': '1986', 'Debut Circuit': 'Monza', 'Final Year': '1991', 'Final Circuit': 'Catalunya', 'Best championship position': '12', 'Best championship year': None, 'Best championship year AdriverZ': '1987', 'Best championship driver': 'Roberto Moreno'}, {'index': 7, 'ID': 'f500b45481f34a6180727a2948453709', 'Team number': 8, 'Team Name': 'Alan Brown Equipe ', 'Name': 'Alan Brown Equipe', 'Year active': 1959, 'Best race starting position': 23, 'Best race finishing position': 12.0, 'Drivers entrance': 2, 'Race starts': 1, 'Seasons': 1, 'Circuits': 1, 'Drivers': 2, 'First row starts': 0, 'Two drivers on first row': 0, 'Two drivers finish 1 and 2': 0, 'All drivers on podium': 0, 'All drivers in points': 0, 'Victories': 0, 'Podiums': 0, 'Pole pos.': 0, 'Fastest lap': 0, 'In points': 0, 'Points': 0, 'Best championship position AdriverZ': 'nan', 'Debut Year': '1959', 'Debut Circuit': 'Aintree', 'Final Year': '1959', 'Final Circuit': 'Aintree', 'Best championship position': 'None', 'Best championship year': None, 'Best championship year AdriverZ': None, 'Best championship driver': None}  ... displaying 10 of 467 total bound parameter sets ...  {'index': 465, 'ID': '62a7717aa4ce4ea7bf6159cc90882558', 'Team number': 466, 'Team Name': 'Yves Giraud-Cabantous ', 'Name': 'Yves Giraud-Cabantous', 'Year active': 1951, 'Best race starting position': 8, 'Best race finishing position': 5.0, 'Drivers entrance': 8, 'Race starts': 6, 'Seasons': 1, 'Circuits': 6, 'Drivers': 2, 'First row starts': 0, 'Two drivers on first row': 0, 'Two drivers finish 1 and 2': 0, 'All drivers on podium': 0, 'All drivers in points': 1, 'Victories': 0, 'Podiums': 0, 'Pole pos.': 0, 'Fastest lap': 0, 'In points': 1, 'Points': '2.00', 'Best championship position AdriverZ': '15', 'Debut Year': '1951', 'Debut Circuit': 'Bremgarten', 'Final Year': '1951', 'Final Circuit': 'Pedralbes', 'Best championship position': 'None', 'Best championship year': None, 'Best championship year AdriverZ': '1951', 'Best championship driver': 'Yves Giraud-Cabantous'}, {'index': 466, 'ID': '9b55ce6558214d9686d2aaabb4f16f59', 'Team number': 467, 'Team Name': 'Zakspeed ', 'Name': 'Zakspeed', 'Year active': '1985 » 1989', 'Best race starting position': 13, 'Best race finishing position': 5.0, 'Drivers entrance': 136, 'Race starts': 74, 'Seasons': 5, 'Circuits': 21, 'Drivers': 7, 'First row starts': 30, 'Two drivers on first row': 0, 'Two drivers finish 1 and 2': 0, 'All drivers on podium': 0, 'All drivers in points': 0, 'Victories': 0, 'Podiums': 0, 'Pole pos.': 0, 'Fastest lap': 0, 'In points': 1, 'Points': '2.00', 'Best championship position AdriverZ': '18', 'Debut Year': '1985', 'Debut Circuit': 'Estoril', 'Final Year': '1989', 'Final Circuit': 'Adelaide', 'Best championship position': '10', 'Best championship year': None, 'Best championship year AdriverZ': '1987', 'Best championship driver': 'Martin Brundle'})]\n(Background on this error at: https://sqlalche.me/e/14/f405)"
     ]
    }
   ],
   "source": [
    "cols = df.columns.to_list()\n",
    "df = df.drop(\"First Race\", axis=1)\n",
    "df = df.drop(\"Last Race\", axis=1)\n",
    "df = df.drop(\"Best championship position (constructor)\", axis=1)\n",
    "clean_team_data = df\n",
    "clean_team_data.to_sql('Teams', engine, if_exists='append')"
   ]
  },
  {
   "cell_type": "code",
   "execution_count": 10,
   "metadata": {},
   "outputs": [
    {
     "data": {
      "text/plain": [
       "72"
      ]
     },
     "execution_count": 10,
     "metadata": {},
     "output_type": "execute_result"
    }
   ],
   "source": [
    "f = open('champs_data.json')\n",
    "data = json.load(f)\n",
    "df = pd.DataFrame(data)\n",
    "df.to_sql('Champions', engine, if_exists='append')"
   ]
  },
  {
   "cell_type": "code",
   "execution_count": 12,
   "metadata": {},
   "outputs": [
    {
     "data": {
      "text/plain": [
       "77"
      ]
     },
     "execution_count": 12,
     "metadata": {},
     "output_type": "execute_result"
    }
   ],
   "source": [
    "f = open('circuit_data.json')\n",
    "data = json.load(f)\n",
    "df = pd.DataFrame(data)\n",
    "df.to_sql('Circuits', engine, if_exists='append')"
   ]
  },
  {
   "cell_type": "code",
   "execution_count": 31,
   "metadata": {},
   "outputs": [],
   "source": [
    "new_clean_driver_data = clean_driver_data.copy()\n",
    "old_clean_driver_data = pd.read_sql_query('''SELECT * from \"Drivers\"''', con =engine)"
   ]
  },
  {
   "cell_type": "code",
   "execution_count": 32,
   "metadata": {},
   "outputs": [],
   "source": [
    "merged_dfs = pd.concat([old_clean_driver_data, new_clean_driver_data]).duplicated()"
   ]
  },
  {
   "cell_type": "code",
   "execution_count": 35,
   "metadata": {},
   "outputs": [
    {
     "data": {
      "text/plain": [
       "0"
      ]
     },
     "execution_count": 35,
     "metadata": {},
     "output_type": "execute_result"
    }
   ],
   "source": [
    "new_values = merged_dfs[~merged_dfs.duplicated(keep=False)]\n",
    "new_values.to_sql('Drivers', engine, if_exists='append', index=False)"
   ]
  }
 ],
 "metadata": {
  "kernelspec": {
   "display_name": "Python 3.9.12 ('base')",
   "language": "python",
   "name": "python3"
  },
  "language_info": {
   "codemirror_mode": {
    "name": "ipython",
    "version": 3
   },
   "file_extension": ".py",
   "mimetype": "text/x-python",
   "name": "python",
   "nbconvert_exporter": "python",
   "pygments_lexer": "ipython3",
   "version": "3.9.12"
  },
  "orig_nbformat": 4,
  "vscode": {
   "interpreter": {
    "hash": "aa77068f38439fea3d523770773ba61bd6d72ba10bc6cca53fd2c1ada3d3a952"
   }
  }
 },
 "nbformat": 4,
 "nbformat_minor": 2
}
