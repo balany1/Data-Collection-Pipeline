{
 "cells": [
  {
   "cell_type": "code",
   "execution_count": 4,
   "metadata": {},
   "outputs": [
    {
     "name": "stdout",
     "output_type": "stream",
     "text": [
      "https://www.4mula1stats.com/driver/adolf_brudes_von_breslau\n",
      "Adolf\n",
      "Brudes von Breslau\n",
      "062a5171-5dda-41bd-9816-353962d9af85\n",
      "Nationality\n",
      "GERMANY\n",
      "Hometown\n",
      "Wrozlav\n",
      "Date of birth\n",
      "1899 October 15\n",
      "Date of death\n",
      "1986 November 05\n",
      "First Race\n",
      "Nurburgring 1952\n",
      "Last Race\n",
      "Nurburgring 1952\n",
      "Year active\n",
      "1952\n",
      "Grands Prix entered\n",
      "1\n",
      "Teams\n",
      "1\n",
      "Seasons\n",
      "1\n",
      "Circuits\n",
      "1\n",
      "Best race starting position\n",
      "19 X 1\n",
      "Best race finishing position\n",
      "17 X 1\n",
      "Victories\n",
      "0\n",
      "Podiums\n",
      "0\n",
      "Pole positions\n",
      "0\n",
      "First row start\n",
      "0\n",
      "Fastest lap\n",
      "0\n",
      "Points finishes\n",
      "0\n",
      "Points\n",
      "0\n"
     ]
    }
   ],
   "source": [
    "from numpy import append\n",
    "from selenium import webdriver\n",
    "import time\n",
    "from selenium.webdriver.common.by import By\n",
    "from selenium.webdriver.firefox.firefox_profile import FirefoxProfile\n",
    "from selenium.webdriver.support.ui import WebDriverWait\n",
    "from selenium.webdriver.support import expected_conditions as EC\n",
    "from selenium.common.exceptions import NoSuchElementException\n",
    "from selenium.common.exceptions import StaleElementReferenceException\n",
    "from selenium.common.exceptions import TimeoutException\n",
    "import uuid\n",
    "\n",
    "driver = webdriver.Chrome()\n",
    "website = \"https://www.4mula1stats.com/\"\n",
    "driver.get(website)\n",
    "navbar = driver.find_element(by=By.XPATH, value=\"//div[@class='navbar-nav']\")\n",
    "drivers_button= navbar.find_element(by=By.LINK_TEXT, value = 'Drivers')\n",
    "drivers_button.click()\n",
    "\n",
    "starting_letter_tag = driver.find_element(by=By.XPATH, value=\"//div[@class='col-sm-6 col-md-4']\")\n",
    "a_tag = starting_letter_tag.find_element(By.TAG_NAME, 'a')\n",
    "link = a_tag.get_attribute('href')\n",
    "print(link)\n",
    "driver.get(link)\n",
    "\n",
    "\n",
    "Page_Title = driver.find_element(by=By.XPATH, value=\"//h1[@class='page-title']\")\n",
    "Name = Page_Title.text\n",
    "Name.replace(\"Formula 1 Driver\", \"\")\n",
    "Driver_Forename = Name.split()[0]\n",
    "print(Driver_Forename)\n",
    "Driver_Surname = \" \".join(Name.split()[1:len(Name.split())-3])\n",
    "print(Driver_Surname)\n",
    "print(uuid.uuid4())\n",
    "\n",
    "column1_data = driver.find_elements(by=By.XPATH, value=\"//div[@class='col-md-6']//td\")\n",
    "for i in range(0,len(column1_data)):\n",
    "    print(column1_data[i].text)\n",
    "column23_data = driver.find_elements(by=By.XPATH, value=\"//div[@class='col-md-3']//td\")\n",
    "for i in range(0,len(column23_data)):\n",
    "    print(column23_data[i].text)"
   ]
  }
 ],
 "metadata": {
  "kernelspec": {
   "display_name": "Python 3.9.12 ('base')",
   "language": "python",
   "name": "python3"
  },
  "language_info": {
   "codemirror_mode": {
    "name": "ipython",
    "version": 3
   },
   "file_extension": ".py",
   "mimetype": "text/x-python",
   "name": "python",
   "nbconvert_exporter": "python",
   "pygments_lexer": "ipython3",
   "version": "3.9.12"
  },
  "orig_nbformat": 4,
  "vscode": {
   "interpreter": {
    "hash": "aa77068f38439fea3d523770773ba61bd6d72ba10bc6cca53fd2c1ada3d3a952"
   }
  }
 },
 "nbformat": 4,
 "nbformat_minor": 2
}
