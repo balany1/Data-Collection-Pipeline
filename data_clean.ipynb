{
 "cells": [
  {
   "cell_type": "code",
   "execution_count": null,
   "metadata": {},
   "outputs": [],
   "source": [
    "\n",
    "from cmath import nan\n",
    "import json\n",
    "import pandas as pd\n",
    "import formula1_scrape\n",
    "\n",
    "f = open('driver_data.json')\n",
    "data = json.load(f)\n",
    "df = pd.DataFrame(data)\n",
    "\n",
    "#fix other data types\n",
    "df[\"First Race\"] = df[\"First Race\"].astype(str)\n",
    "#Consistency for Nationalities\n",
    "df[\"Nationality\"] = df[\"Nationality\"].str.title()\n",
    "\n",
    "#Separate circuits and years for first race and last race\n",
    "\n",
    "first_race_data = df[\"First Race\"].str.rsplit(n=1, expand=True)\n",
    "last_race_data = df[\"Last Race\"].str.rsplit(n=1, expand=True)\n",
    "\n",
    "df[\"Debut Year\"] = first_race_data[1]\n",
    "df[\"Debut Circuit\"] = first_race_data[0]\n",
    "df[\"Debut Circuit\"] = df[\"Debut Circuit\"].astype(str)\n",
    "df[\"Final Year\"] = last_race_data[1]\n",
    "df[\"Final Circuit\"] = last_race_data[0]\n",
    "df[\"Final Circuit\"] = df[\"Final Circuit\"].astype(str)\n",
    "\n",
    "\n",
    "#Separate best position and year\n",
    "df[\"Best championship position\"] = df[\"Best championship position\"].astype(str)\n",
    "best_champseason_place = df[\"Best championship position\"].str.split(n=1, expand=True)\n",
    "df[\"Best championship position\"] = best_champseason_place[0]\n",
    "best_champseason_year = best_champseason_place[1].str.split(n=2, expand=True)\n",
    "df[\"Best championship year\"] = best_champseason_year[2]\n",
    "df[\"Best championship position\"] = df[\"Best championship position\"].astype(str)\n",
    "df[\"Best championship year\"] = df[\"Best championship year\"].astype(str)\n",
    "df.loc[df[\"Best championship position\"] == \"World\", \"Best championship position\"] = \"1st\"\n",
    "\n",
    "    \n",
    "#Convert dates/times\n",
    "df[\"Date of birth\"] = pd.to_datetime(df[\"Date of birth\"], infer_datetime_format=True, errors = 'coerce')\n",
    "df[\"Date of death\"] = pd.to_datetime(df[\"Date of death\"], infer_datetime_format=True, errors = 'coerce')\n",
    "\n",
    "#fix other data types\n",
    "df[\"Driver First Name\"] = df[\"Driver First Name\"].astype(str)\n",
    "df[\"Driver Second Name\"] = df[\"Driver Second Name\"].astype(str)\n",
    "df[\"Nationality\"] = df[\"Nationality\"].astype(str)\n",
    "df[\"Hometown\"] = df[\"Hometown\"].astype(str)\n",
    "df[\"Driver Second Name\"] = df[\"Driver Second Name\"].astype(str)\n",
    "df[\"Points\"] = df[\"Points\"].astype(float)\n"
   ]
  },
  {
   "cell_type": "code",
   "execution_count": null,
   "metadata": {},
   "outputs": [],
   "source": [
    "cols = df.columns.to_list()\n",
    "cols = cols[0:8]+[cols[-7]]+cols[-5:]+cols[8:-5]\n",
    "df = df.drop(\"First Race\", axis=1)\n",
    "df = df.drop(\"Last Race\", axis=1)\n",
    "df = df.drop(\"Year active\", axis=1)\n",
    "clean_driver_data = df\n"
   ]
  },
  {
   "cell_type": "code",
   "execution_count": 3,
   "metadata": {},
   "outputs": [
    {
     "data": {
      "text/plain": [
       "[]"
      ]
     },
     "execution_count": 3,
     "metadata": {},
     "output_type": "execute_result"
    }
   ],
   "source": [
    "import psycopg2\n",
    "from sqlalchemy import create_engine\n",
    "import pandas as pd\n",
    "from sqlalchemy import inspect\n",
    "\n",
    "\n",
    "DATABASE_TYPE = 'postgresql'\n",
    "DBAPI = 'psycopg2'\n",
    "HOST = 'formula1.c0ptp1rfwhvx.eu-west-2.rds.amazonaws.com'\n",
    "USER = 'postgres'\n",
    "PASSWORD = 'T00narmyf1s'\n",
    "DATABASE = 'Formula1'\n",
    "PORT = 5432\n",
    "\n",
    "engine = create_engine(f\"{DATABASE_TYPE}+{DBAPI}://{USER}:{PASSWORD}@{HOST}:{PORT}/{DATABASE}\")\n",
    "engine.connect()\n",
    "inspector = inspect(engine)\n",
    "inspector.get_table_names()"
   ]
  },
  {
   "cell_type": "code",
   "execution_count": 4,
   "metadata": {},
   "outputs": [
    {
     "data": {
      "text/plain": [
       "851"
      ]
     },
     "execution_count": 4,
     "metadata": {},
     "output_type": "execute_result"
    }
   ],
   "source": [
    "clean_driver_data.to_sql('Drivers', engine, if_exists='append')"
   ]
  },
  {
   "cell_type": "code",
   "execution_count": null,
   "metadata": {},
   "outputs": [],
   "source": [
    "f = open('teams_data.json')\n",
    "data = json.load(f)\n",
    "df = pd.DataFrame(data)\n",
    "\n",
    "\n",
    "#Separate circuits and years for first race and last race\n",
    "\n",
    "first_race_data = df[\"First Race\"].str.rsplit(n=1, expand=True)\n",
    "last_race_data = df[\"Last Race\"].str.rsplit(n=1, expand=True)\n",
    "\n",
    "df[\"Debut Year\"] = first_race_data[1]\n",
    "df[\"Debut Circuit\"] = first_race_data[0]\n",
    "df[\"Debut Circuit\"] = df[\"Debut Circuit\"].astype(str)\n",
    "df[\"Final Year\"] = last_race_data[1]\n",
    "df[\"Final Circuit\"] = last_race_data[0]\n",
    "df[\"Final Circuit\"] = df[\"Final Circuit\"].astype(str)\n",
    "\n",
    "#Separate best position and year\n",
    "df[\"Best championship position (constructor)\"] = df[\"Best championship position (constructor)\"].astype(str)\n",
    "best_champseason_place = df[\"Best championship position (constructor)\"].str.split(n=1, expand=True)\n",
    "df[\"Best championship position\"] = best_champseason_place[0]\n",
    "df[\"Best championship year\"] = best_champseason_place[1]\n",
    "df[\"Best championship position\"] = df[\"Best championship position\"].astype(str)\n",
    "df[\"Best championship year\"] = df[\"Best championship year\"].astype(str)\n",
    "df.loc[df[\"Best championship position\"] == \"World\", \"Best championship position\"] = \"1st\"\n",
    "best_champseason_year = best_champseason_place[1].str.split(n=2, expand=True)\n",
    "df[\"Best championship year\"] = best_champseason_year[1]\n",
    "\n",
    "df[\"Best championship position (driver)\"] = df[\"Best championship position (driver)\"].astype(str)\n",
    "best_champdriverseason_place = df[\"Best championship position (driver)\"].str.split(n=2, expand=True)\n",
    "df[\"Best championship position (driver)\"] = best_champdriverseason_place[0]\n",
    "df[\"Best championship year (driver)\"] = best_champdriverseason_place[1]\n",
    "df[\"Best championship driver\"] = best_champdriverseason_place[2]\n",
    "\n",
    "clean_driver_data = df\n",
    "\n"
   ]
  },
  {
   "cell_type": "code",
   "execution_count": null,
   "metadata": {},
   "outputs": [],
   "source": [
    "cols = df.columns.to_list()\n",
    "df = df.drop(\"First Race\", axis=1)\n",
    "df = df.drop(\"Last Race\", axis=1)\n",
    "df = df.drop(\"Best championship position (constructor)\", axis=1)\n",
    "print(cols)\n",
    "types = df.dtypes\n",
    "print(types)"
   ]
  },
  {
   "cell_type": "code",
   "execution_count": null,
   "metadata": {},
   "outputs": [],
   "source": [
    "f = open('champs_data.json')\n",
    "data = json.load(f)\n",
    "df = pd.DataFrame(data)\n",
    "print(df)"
   ]
  }
 ],
 "metadata": {
  "kernelspec": {
   "display_name": "Python 3.9.12 ('base')",
   "language": "python",
   "name": "python3"
  },
  "language_info": {
   "codemirror_mode": {
    "name": "ipython",
    "version": 3
   },
   "file_extension": ".py",
   "mimetype": "text/x-python",
   "name": "python",
   "nbconvert_exporter": "python",
   "pygments_lexer": "ipython3",
   "version": "3.9.12"
  },
  "orig_nbformat": 4,
  "vscode": {
   "interpreter": {
    "hash": "aa77068f38439fea3d523770773ba61bd6d72ba10bc6cca53fd2c1ada3d3a952"
   }
  }
 },
 "nbformat": 4,
 "nbformat_minor": 2
}
